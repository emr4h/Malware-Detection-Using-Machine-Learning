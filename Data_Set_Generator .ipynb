{
 "cells": [
  {
   "cell_type": "markdown",
   "id": "f51341ce",
   "metadata": {},
   "source": [
    "# Data Set Generator "
   ]
  },
  {
   "cell_type": "code",
   "execution_count": null,
   "id": "38f87734",
   "metadata": {},
   "outputs": [],
   "source": [
    "import pefile\n",
    "import csv\n",
    "import glob"
   ]
  },
  {
   "cell_type": "code",
   "execution_count": null,
   "id": "93abc748",
   "metadata": {},
   "outputs": [],
   "source": [
    "# pefile : It is used to extract pe information of exe files.\n",
    "# csv : Used to create csv file.\n",
    "# glob : It is used to access folders."
   ]
  },
  {
   "cell_type": "markdown",
   "id": "3de03b84",
   "metadata": {},
   "source": [
    "First create 2 folders, add your malwares in one folder and your safe softwares in the other folder. Then access the folders with glob as follows."
   ]
  },
  {
   "cell_type": "code",
   "execution_count": null,
   "id": "26392386",
   "metadata": {},
   "outputs": [],
   "source": [
    "malware = glob.glob('../malwares_folder//*.exe') # change path"
   ]
  },
  {
   "cell_type": "code",
   "execution_count": null,
   "id": "e0833f40",
   "metadata": {},
   "outputs": [],
   "source": [
    "secure = glob.glob('../secures_folder//*.exe') # change path"
   ]
  },
  {
   "cell_type": "markdown",
   "id": "70f615e1",
   "metadata": {},
   "source": [
    "Define header information in dataset"
   ]
  },
  {
   "cell_type": "code",
   "execution_count": null,
   "id": "f2111f89",
   "metadata": {},
   "outputs": [],
   "source": [
    "header =[\"AddressOfEntryPoint\",\"MajorLinkerVersion\",\"MajorImageVersion\",\"MajorOperatingSystemVersion\",\"DllCharacteristics\",\"SizeOfStackReserve\",\"NumberOfSections\",\"ResourceSize\",\"IfMalware\"]"
   ]
  },
  {
   "cell_type": "markdown",
   "id": "9726a7e4",
   "metadata": {},
   "source": [
    "Use the following code structure to generate dataset in csv file format:"
   ]
  },
  {
   "cell_type": "code",
   "execution_count": null,
   "id": "a098d0b9",
   "metadata": {},
   "outputs": [],
   "source": [
    "with open('dataset.csv', 'w', encoding='UTF8', newline='') as f:\n",
    "    writer = csv.writer(f)\n",
    "\n",
    "    writer.writerow(header) # header info added\n",
    "\n",
    "    # We added the pe information for Malware folder:\n",
    "    \n",
    "        pe = pefile.PE(file)\n",
    "        a = str(pe.OPTIONAL_HEADER.AddressOfEntryPoint)\n",
    "        b = str(pe.OPTIONAL_HEADER.MajorLinkerVersion)\n",
    "        c = str(pe.OPTIONAL_HEADER.MajorImageVersion)\n",
    "        d = str(pe.OPTIONAL_HEADER.MajorOperatingSystemVersion)\n",
    "        e = str(pe.OPTIONAL_HEADER.DllCharacteristics)\n",
    "        f = str(pe.OPTIONAL_HEADER.SizeOfStackReserve)\n",
    "        g = str(pe.FILE_HEADER.NumberOfSections)\n",
    "        h = str(pe.OPTIONAL_HEADER.DATA_DIRECTORY[2].Size)\n",
    "        i = \"1\" # dengerous exe file value\n",
    "        \n",
    "        data = [a,b,c,d,e,f,g,h,i]\n",
    "        writer.writerow(data)\n",
    "    \n",
    "    # We added the pe information for safe software folder:\n",
    "    \n",
    "    for file in secure:\n",
    "        pe = pefile.PE(file)\n",
    "        a = str(pe.OPTIONAL_HEADER.AddressOfEntryPoint)\n",
    "        b = str(pe.OPTIONAL_HEADER.MajorLinkerVersion)\n",
    "        c = str(pe.OPTIONAL_HEADER.MajorImageVersion)\n",
    "        d = str(pe.OPTIONAL_HEADER.MajorOperatingSystemVersion)\n",
    "        e = str(pe.OPTIONAL_HEADER.DllCharacteristics)\n",
    "        f = str(pe.OPTIONAL_HEADER.SizeOfStackReserve)\n",
    "        g = str(pe.FILE_HEADER.NumberOfSections)\n",
    "        h = str(pe.OPTIONAL_HEADER.DATA_DIRECTORY[2].Size)\n",
    "        i = \"0\" # safe exe file value\n",
    "        \n",
    "        data = [a,b,c,d,e,f,g,h,i]\n",
    "        writer.writerow(data)"
   ]
  },
  {
   "cell_type": "markdown",
   "id": "15004a13",
   "metadata": {},
   "source": [
    "We created our own dataset by extracting the PE information of the exe files and writing them to the csv file."
   ]
  },
  {
   "cell_type": "code",
   "execution_count": null,
   "id": "30181e79",
   "metadata": {},
   "outputs": [],
   "source": []
  }
 ],
 "metadata": {
  "kernelspec": {
   "display_name": "Python 3 (ipykernel)",
   "language": "python",
   "name": "python3"
  },
  "language_info": {
   "codemirror_mode": {
    "name": "ipython",
    "version": 3
   },
   "file_extension": ".py",
   "mimetype": "text/x-python",
   "name": "python",
   "nbconvert_exporter": "python",
   "pygments_lexer": "ipython3",
   "version": "3.9.10"
  }
 },
 "nbformat": 4,
 "nbformat_minor": 5
}
