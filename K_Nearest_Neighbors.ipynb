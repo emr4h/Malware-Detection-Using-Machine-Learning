{
 "cells": [
  {
   "cell_type": "code",
   "execution_count": 1,
   "id": "75878b0c",
   "metadata": {},
   "outputs": [],
   "source": [
    "import numpy as np\n",
    "import pandas as pd\n",
    "from sklearn.model_selection import train_test_split\n",
    "from sklearn.neighbors import KNeighborsClassifier\n",
    "from sklearn.metrics import f1_score\n",
    "from sklearn.metrics import plot_confusion_matrix,plot_precision_recall_curve,plot_roc_curve"
   ]
  },
  {
   "cell_type": "markdown",
   "id": "69b25522",
   "metadata": {},
   "source": [
    "Data set reading :"
   ]
  },
  {
   "cell_type": "code",
   "execution_count": 2,
   "id": "b54e1b40",
   "metadata": {},
   "outputs": [],
   "source": [
    "data = pd.read_csv('../Malware-Detection-Using-Machine-Learning/data-set/MalwareDataSet.csv') "
   ]
  },
  {
   "cell_type": "code",
   "execution_count": 3,
   "id": "47c9ba1b",
   "metadata": {},
   "outputs": [
    {
     "data": {
      "text/html": [
       "<div>\n",
       "<style scoped>\n",
       "    .dataframe tbody tr th:only-of-type {\n",
       "        vertical-align: middle;\n",
       "    }\n",
       "\n",
       "    .dataframe tbody tr th {\n",
       "        vertical-align: top;\n",
       "    }\n",
       "\n",
       "    .dataframe thead th {\n",
       "        text-align: right;\n",
       "    }\n",
       "</style>\n",
       "<table border=\"1\" class=\"dataframe\">\n",
       "  <thead>\n",
       "    <tr style=\"text-align: right;\">\n",
       "      <th></th>\n",
       "      <th>AddressOfEntryPoint</th>\n",
       "      <th>MajorLinkerVersion</th>\n",
       "      <th>MajorImageVersion</th>\n",
       "      <th>MajorOperatingSystemVersion</th>\n",
       "      <th>DllCharacteristics</th>\n",
       "      <th>SizeOfStackReserve</th>\n",
       "      <th>NumberOfSections</th>\n",
       "      <th>ResourceSize</th>\n",
       "      <th>legitimate</th>\n",
       "    </tr>\n",
       "  </thead>\n",
       "  <tbody>\n",
       "    <tr>\n",
       "      <th>0</th>\n",
       "      <td>10407</td>\n",
       "      <td>9</td>\n",
       "      <td>6</td>\n",
       "      <td>6</td>\n",
       "      <td>33088</td>\n",
       "      <td>262144</td>\n",
       "      <td>4</td>\n",
       "      <td>952</td>\n",
       "      <td>1</td>\n",
       "    </tr>\n",
       "    <tr>\n",
       "      <th>1</th>\n",
       "      <td>5354</td>\n",
       "      <td>9</td>\n",
       "      <td>6</td>\n",
       "      <td>6</td>\n",
       "      <td>33088</td>\n",
       "      <td>262144</td>\n",
       "      <td>4</td>\n",
       "      <td>952</td>\n",
       "      <td>1</td>\n",
       "    </tr>\n",
       "    <tr>\n",
       "      <th>2</th>\n",
       "      <td>58807</td>\n",
       "      <td>9</td>\n",
       "      <td>6</td>\n",
       "      <td>6</td>\n",
       "      <td>33088</td>\n",
       "      <td>262144</td>\n",
       "      <td>4</td>\n",
       "      <td>136490</td>\n",
       "      <td>1</td>\n",
       "    </tr>\n",
       "    <tr>\n",
       "      <th>3</th>\n",
       "      <td>25166</td>\n",
       "      <td>9</td>\n",
       "      <td>6</td>\n",
       "      <td>6</td>\n",
       "      <td>33088</td>\n",
       "      <td>262144</td>\n",
       "      <td>4</td>\n",
       "      <td>1940</td>\n",
       "      <td>1</td>\n",
       "    </tr>\n",
       "    <tr>\n",
       "      <th>4</th>\n",
       "      <td>70387</td>\n",
       "      <td>9</td>\n",
       "      <td>6</td>\n",
       "      <td>6</td>\n",
       "      <td>33088</td>\n",
       "      <td>262144</td>\n",
       "      <td>4</td>\n",
       "      <td>83098</td>\n",
       "      <td>1</td>\n",
       "    </tr>\n",
       "    <tr>\n",
       "      <th>...</th>\n",
       "      <td>...</td>\n",
       "      <td>...</td>\n",
       "      <td>...</td>\n",
       "      <td>...</td>\n",
       "      <td>...</td>\n",
       "      <td>...</td>\n",
       "      <td>...</td>\n",
       "      <td>...</td>\n",
       "      <td>...</td>\n",
       "    </tr>\n",
       "    <tr>\n",
       "      <th>137439</th>\n",
       "      <td>123291</td>\n",
       "      <td>11</td>\n",
       "      <td>0</td>\n",
       "      <td>5</td>\n",
       "      <td>33088</td>\n",
       "      <td>1048576</td>\n",
       "      <td>5</td>\n",
       "      <td>81654</td>\n",
       "      <td>0</td>\n",
       "    </tr>\n",
       "    <tr>\n",
       "      <th>137440</th>\n",
       "      <td>40000</td>\n",
       "      <td>2</td>\n",
       "      <td>6</td>\n",
       "      <td>1</td>\n",
       "      <td>32768</td>\n",
       "      <td>1048576</td>\n",
       "      <td>8</td>\n",
       "      <td>67624</td>\n",
       "      <td>0</td>\n",
       "    </tr>\n",
       "    <tr>\n",
       "      <th>137441</th>\n",
       "      <td>59610</td>\n",
       "      <td>10</td>\n",
       "      <td>0</td>\n",
       "      <td>5</td>\n",
       "      <td>33088</td>\n",
       "      <td>1048576</td>\n",
       "      <td>5</td>\n",
       "      <td>22648</td>\n",
       "      <td>0</td>\n",
       "    </tr>\n",
       "    <tr>\n",
       "      <th>137442</th>\n",
       "      <td>51216</td>\n",
       "      <td>2</td>\n",
       "      <td>0</td>\n",
       "      <td>1</td>\n",
       "      <td>0</td>\n",
       "      <td>1048576</td>\n",
       "      <td>8</td>\n",
       "      <td>2216</td>\n",
       "      <td>0</td>\n",
       "    </tr>\n",
       "    <tr>\n",
       "      <th>137443</th>\n",
       "      <td>22731</td>\n",
       "      <td>11</td>\n",
       "      <td>0</td>\n",
       "      <td>5</td>\n",
       "      <td>33088</td>\n",
       "      <td>1048576</td>\n",
       "      <td>5</td>\n",
       "      <td>318464</td>\n",
       "      <td>0</td>\n",
       "    </tr>\n",
       "  </tbody>\n",
       "</table>\n",
       "<p>137444 rows × 9 columns</p>\n",
       "</div>"
      ],
      "text/plain": [
       "        AddressOfEntryPoint  MajorLinkerVersion  MajorImageVersion  \\\n",
       "0                     10407                   9                  6   \n",
       "1                      5354                   9                  6   \n",
       "2                     58807                   9                  6   \n",
       "3                     25166                   9                  6   \n",
       "4                     70387                   9                  6   \n",
       "...                     ...                 ...                ...   \n",
       "137439               123291                  11                  0   \n",
       "137440                40000                   2                  6   \n",
       "137441                59610                  10                  0   \n",
       "137442                51216                   2                  0   \n",
       "137443                22731                  11                  0   \n",
       "\n",
       "        MajorOperatingSystemVersion  DllCharacteristics  SizeOfStackReserve  \\\n",
       "0                                 6               33088              262144   \n",
       "1                                 6               33088              262144   \n",
       "2                                 6               33088              262144   \n",
       "3                                 6               33088              262144   \n",
       "4                                 6               33088              262144   \n",
       "...                             ...                 ...                 ...   \n",
       "137439                            5               33088             1048576   \n",
       "137440                            1               32768             1048576   \n",
       "137441                            5               33088             1048576   \n",
       "137442                            1                   0             1048576   \n",
       "137443                            5               33088             1048576   \n",
       "\n",
       "        NumberOfSections  ResourceSize  legitimate  \n",
       "0                      4           952           1  \n",
       "1                      4           952           1  \n",
       "2                      4        136490           1  \n",
       "3                      4          1940           1  \n",
       "4                      4         83098           1  \n",
       "...                  ...           ...         ...  \n",
       "137439                 5         81654           0  \n",
       "137440                 8         67624           0  \n",
       "137441                 5         22648           0  \n",
       "137442                 8          2216           0  \n",
       "137443                 5        318464           0  \n",
       "\n",
       "[137444 rows x 9 columns]"
      ]
     },
     "execution_count": 3,
     "metadata": {},
     "output_type": "execute_result"
    }
   ],
   "source": [
    "data"
   ]
  },
  {
   "cell_type": "code",
   "execution_count": 4,
   "id": "b13348ab",
   "metadata": {},
   "outputs": [
    {
     "data": {
      "text/plain": [
       "(137444, 9)"
      ]
     },
     "execution_count": 4,
     "metadata": {},
     "output_type": "execute_result"
    }
   ],
   "source": [
    "data.shape"
   ]
  },
  {
   "cell_type": "code",
   "execution_count": 5,
   "id": "33292bb5",
   "metadata": {},
   "outputs": [
    {
     "data": {
      "text/html": [
       "<div>\n",
       "<style scoped>\n",
       "    .dataframe tbody tr th:only-of-type {\n",
       "        vertical-align: middle;\n",
       "    }\n",
       "\n",
       "    .dataframe tbody tr th {\n",
       "        vertical-align: top;\n",
       "    }\n",
       "\n",
       "    .dataframe thead th {\n",
       "        text-align: right;\n",
       "    }\n",
       "</style>\n",
       "<table border=\"1\" class=\"dataframe\">\n",
       "  <thead>\n",
       "    <tr style=\"text-align: right;\">\n",
       "      <th></th>\n",
       "      <th>AddressOfEntryPoint</th>\n",
       "      <th>MajorLinkerVersion</th>\n",
       "      <th>MajorImageVersion</th>\n",
       "      <th>MajorOperatingSystemVersion</th>\n",
       "      <th>DllCharacteristics</th>\n",
       "      <th>SizeOfStackReserve</th>\n",
       "      <th>NumberOfSections</th>\n",
       "      <th>ResourceSize</th>\n",
       "      <th>legitimate</th>\n",
       "    </tr>\n",
       "  </thead>\n",
       "  <tbody>\n",
       "    <tr>\n",
       "      <th>count</th>\n",
       "      <td>1.374440e+05</td>\n",
       "      <td>137444.000000</td>\n",
       "      <td>137444.000000</td>\n",
       "      <td>137444.000000</td>\n",
       "      <td>137444.000000</td>\n",
       "      <td>1.374440e+05</td>\n",
       "      <td>137444.000000</td>\n",
       "      <td>1.374440e+05</td>\n",
       "      <td>137444.000000</td>\n",
       "    </tr>\n",
       "    <tr>\n",
       "      <th>mean</th>\n",
       "      <td>1.722186e+05</td>\n",
       "      <td>8.620784</td>\n",
       "      <td>68.731876</td>\n",
       "      <td>5.098738</td>\n",
       "      <td>22301.043436</td>\n",
       "      <td>9.306841e+05</td>\n",
       "      <td>4.997119</td>\n",
       "      <td>2.474766e+05</td>\n",
       "      <td>0.297707</td>\n",
       "    </tr>\n",
       "    <tr>\n",
       "      <th>std</th>\n",
       "      <td>3.438014e+06</td>\n",
       "      <td>4.095635</td>\n",
       "      <td>1185.709873</td>\n",
       "      <td>99.437584</td>\n",
       "      <td>15444.753219</td>\n",
       "      <td>5.553175e+05</td>\n",
       "      <td>1.917237</td>\n",
       "      <td>2.129516e+07</td>\n",
       "      <td>0.457252</td>\n",
       "    </tr>\n",
       "    <tr>\n",
       "      <th>min</th>\n",
       "      <td>0.000000e+00</td>\n",
       "      <td>0.000000</td>\n",
       "      <td>0.000000</td>\n",
       "      <td>0.000000</td>\n",
       "      <td>0.000000</td>\n",
       "      <td>0.000000e+00</td>\n",
       "      <td>1.000000</td>\n",
       "      <td>0.000000e+00</td>\n",
       "      <td>0.000000</td>\n",
       "    </tr>\n",
       "    <tr>\n",
       "      <th>25%</th>\n",
       "      <td>1.272100e+04</td>\n",
       "      <td>8.000000</td>\n",
       "      <td>0.000000</td>\n",
       "      <td>4.000000</td>\n",
       "      <td>320.000000</td>\n",
       "      <td>1.048576e+06</td>\n",
       "      <td>4.000000</td>\n",
       "      <td>2.216000e+03</td>\n",
       "      <td>0.000000</td>\n",
       "    </tr>\n",
       "    <tr>\n",
       "      <th>50%</th>\n",
       "      <td>5.300800e+04</td>\n",
       "      <td>9.000000</td>\n",
       "      <td>0.000000</td>\n",
       "      <td>5.000000</td>\n",
       "      <td>33088.000000</td>\n",
       "      <td>1.048576e+06</td>\n",
       "      <td>5.000000</td>\n",
       "      <td>9.640000e+03</td>\n",
       "      <td>0.000000</td>\n",
       "    </tr>\n",
       "    <tr>\n",
       "      <th>75%</th>\n",
       "      <td>6.157800e+04</td>\n",
       "      <td>10.000000</td>\n",
       "      <td>6.000000</td>\n",
       "      <td>5.000000</td>\n",
       "      <td>33088.000000</td>\n",
       "      <td>1.048576e+06</td>\n",
       "      <td>5.000000</td>\n",
       "      <td>2.376250e+04</td>\n",
       "      <td>1.000000</td>\n",
       "    </tr>\n",
       "    <tr>\n",
       "      <th>max</th>\n",
       "      <td>1.074484e+09</td>\n",
       "      <td>255.000000</td>\n",
       "      <td>28619.000000</td>\n",
       "      <td>36868.000000</td>\n",
       "      <td>49504.000000</td>\n",
       "      <td>3.355443e+07</td>\n",
       "      <td>40.000000</td>\n",
       "      <td>4.294903e+09</td>\n",
       "      <td>1.000000</td>\n",
       "    </tr>\n",
       "  </tbody>\n",
       "</table>\n",
       "</div>"
      ],
      "text/plain": [
       "       AddressOfEntryPoint  MajorLinkerVersion  MajorImageVersion  \\\n",
       "count         1.374440e+05       137444.000000      137444.000000   \n",
       "mean          1.722186e+05            8.620784          68.731876   \n",
       "std           3.438014e+06            4.095635        1185.709873   \n",
       "min           0.000000e+00            0.000000           0.000000   \n",
       "25%           1.272100e+04            8.000000           0.000000   \n",
       "50%           5.300800e+04            9.000000           0.000000   \n",
       "75%           6.157800e+04           10.000000           6.000000   \n",
       "max           1.074484e+09          255.000000       28619.000000   \n",
       "\n",
       "       MajorOperatingSystemVersion  DllCharacteristics  SizeOfStackReserve  \\\n",
       "count                137444.000000       137444.000000        1.374440e+05   \n",
       "mean                      5.098738        22301.043436        9.306841e+05   \n",
       "std                      99.437584        15444.753219        5.553175e+05   \n",
       "min                       0.000000            0.000000        0.000000e+00   \n",
       "25%                       4.000000          320.000000        1.048576e+06   \n",
       "50%                       5.000000        33088.000000        1.048576e+06   \n",
       "75%                       5.000000        33088.000000        1.048576e+06   \n",
       "max                   36868.000000        49504.000000        3.355443e+07   \n",
       "\n",
       "       NumberOfSections  ResourceSize     legitimate  \n",
       "count     137444.000000  1.374440e+05  137444.000000  \n",
       "mean           4.997119  2.474766e+05       0.297707  \n",
       "std            1.917237  2.129516e+07       0.457252  \n",
       "min            1.000000  0.000000e+00       0.000000  \n",
       "25%            4.000000  2.216000e+03       0.000000  \n",
       "50%            5.000000  9.640000e+03       0.000000  \n",
       "75%            5.000000  2.376250e+04       1.000000  \n",
       "max           40.000000  4.294903e+09       1.000000  "
      ]
     },
     "execution_count": 5,
     "metadata": {},
     "output_type": "execute_result"
    }
   ],
   "source": [
    "data.describe()"
   ]
  },
  {
   "cell_type": "code",
   "execution_count": 6,
   "id": "65dbf455",
   "metadata": {
    "scrolled": true
   },
   "outputs": [
    {
     "data": {
      "text/plain": [
       "legitimate\n",
       "0    96526\n",
       "1    40918\n",
       "dtype: int64"
      ]
     },
     "execution_count": 6,
     "metadata": {},
     "output_type": "execute_result"
    }
   ],
   "source": [
    "data.groupby(data['legitimate']).size()"
   ]
  },
  {
   "cell_type": "markdown",
   "id": "2eab99e9",
   "metadata": {},
   "source": [
    "We have a total of 137.444 data. There are 96.526 safe and 40.918 malware."
   ]
  },
  {
   "cell_type": "code",
   "execution_count": 7,
   "id": "8592b076",
   "metadata": {},
   "outputs": [],
   "source": [
    "features = data.iloc[:,[0,1,2,3,4,5,6,7]].values # extracting the first 8 columns from the dataset - features"
   ]
  },
  {
   "cell_type": "code",
   "execution_count": 8,
   "id": "3da1b6cd",
   "metadata": {},
   "outputs": [
    {
     "data": {
      "text/plain": [
       "array([[  10407,       9,       6, ...,  262144,       4,     952],\n",
       "       [   5354,       9,       6, ...,  262144,       4,     952],\n",
       "       [  58807,       9,       6, ...,  262144,       4,  136490],\n",
       "       ...,\n",
       "       [  59610,      10,       0, ..., 1048576,       5,   22648],\n",
       "       [  51216,       2,       0, ..., 1048576,       8,    2216],\n",
       "       [  22731,      11,       0, ..., 1048576,       5,  318464]])"
      ]
     },
     "execution_count": 8,
     "metadata": {},
     "output_type": "execute_result"
    }
   ],
   "source": [
    "features"
   ]
  },
  {
   "cell_type": "code",
   "execution_count": 9,
   "id": "46db9f27",
   "metadata": {},
   "outputs": [],
   "source": [
    "ifMalware = data.iloc[:,8].values  # extracting the legitimate column of the dataset - safe & malware results"
   ]
  },
  {
   "cell_type": "code",
   "execution_count": 10,
   "id": "c0e0d3db",
   "metadata": {},
   "outputs": [
    {
     "data": {
      "text/plain": [
       "array([1, 1, 1, ..., 0, 0, 0])"
      ]
     },
     "execution_count": 10,
     "metadata": {},
     "output_type": "execute_result"
    }
   ],
   "source": [
    "ifMalware"
   ]
  },
  {
   "cell_type": "markdown",
   "id": "773b9a86",
   "metadata": {},
   "source": [
    "We will use 75% of our dataset for training and 25% for testing :"
   ]
  },
  {
   "cell_type": "code",
   "execution_count": 11,
   "id": "0657650f",
   "metadata": {},
   "outputs": [],
   "source": [
    "features_train, features_test, ifMalware_train, ifMalware_test = train_test_split(features, ifMalware, test_size=0.25)"
   ]
  },
  {
   "cell_type": "markdown",
   "id": "4edcf3e5",
   "metadata": {},
   "source": [
    "Learning and Predict :"
   ]
  },
  {
   "cell_type": "code",
   "execution_count": 12,
   "id": "30274115",
   "metadata": {},
   "outputs": [],
   "source": [
    "knModel = KNeighborsClassifier(n_neighbors=1) # Defined the model."
   ]
  },
  {
   "cell_type": "code",
   "execution_count": 13,
   "id": "b6993294",
   "metadata": {},
   "outputs": [
    {
     "data": {
      "text/plain": [
       "KNeighborsClassifier(n_neighbors=1)"
      ]
     },
     "execution_count": 13,
     "metadata": {},
     "output_type": "execute_result"
    }
   ],
   "source": [
    "knModel.fit(features_train, ifMalware_train) # Provided training data."
   ]
  },
  {
   "cell_type": "code",
   "execution_count": 14,
   "id": "0a413829",
   "metadata": {},
   "outputs": [],
   "source": [
    "knPredict = knModel.predict(features_test) # Give the test data then call predict."
   ]
  },
  {
   "cell_type": "markdown",
   "id": "9d67adc3",
   "metadata": {},
   "source": [
    "Results :"
   ]
  },
  {
   "cell_type": "code",
   "execution_count": 15,
   "id": "42f2a30d",
   "metadata": {},
   "outputs": [
    {
     "name": "stdout",
     "output_type": "stream",
     "text": [
      "Number of mislabeled out of a total of 34361 test entries: 838\n"
     ]
    }
   ],
   "source": [
    "print(\"Number of mislabeled out of a total of %d test entries: %d\" % (features_test.shape[0], \n",
    "                                                                      (ifMalware_test != knPredict).sum()))"
   ]
  },
  {
   "cell_type": "code",
   "execution_count": 16,
   "id": "cbbfc4fb",
   "metadata": {},
   "outputs": [],
   "source": [
    "successRate = 100 * f1_score(ifMalware_test, knPredict, average='micro') # Success rate calculation"
   ]
  },
  {
   "cell_type": "code",
   "execution_count": 17,
   "id": "894b2b35",
   "metadata": {},
   "outputs": [
    {
     "name": "stdout",
     "output_type": "stream",
     "text": [
      "The Success Rate was calculated as % : 97.56118855679404 with the K-Nearest-Neighbors\n"
     ]
    }
   ],
   "source": [
    "print(\"The Success Rate was calculated as % : \" + str(successRate) + \" with the K-Nearest-Neighbors\")"
   ]
  },
  {
   "cell_type": "markdown",
   "id": "ffda807e",
   "metadata": {},
   "source": [
    "Visualization :"
   ]
  },
  {
   "cell_type": "code",
   "execution_count": 18,
   "id": "a1af503a",
   "metadata": {},
   "outputs": [
    {
     "data": {
      "text/plain": [
       "<sklearn.metrics._plot.confusion_matrix.ConfusionMatrixDisplay at 0x123674df0>"
      ]
     },
     "execution_count": 18,
     "metadata": {},
     "output_type": "execute_result"
    },
    {
     "data": {
      "image/png": "[encoded data removed]",
      "text/plain": [
       "<Figure size 432x288 with 2 Axes>"
      ]
     },
     "metadata": {
      "needs_background": "light"
     },
     "output_type": "display_data"
    }
   ],
   "source": [
    "plot_confusion_matrix(knModel,features_test,ifMalware_test)"
   ]
  },
  {
   "cell_type": "code",
   "execution_count": 19,
   "id": "396f5630",
   "metadata": {},
   "outputs": [
    {
     "data": {
      "text/plain": [
       "<sklearn.metrics._plot.precision_recall_curve.PrecisionRecallDisplay at 0x123f4cd90>"
      ]
     },
     "execution_count": 19,
     "metadata": {},
     "output_type": "execute_result"
    },
    {
     "data": {
      "image/png": "[encoded data removed]",
      "text/plain": [
       "<Figure size 432x288 with 1 Axes>"
      ]
     },
     "metadata": {
      "needs_background": "light"
     },
     "output_type": "display_data"
    }
   ],
   "source": [
    "plot_precision_recall_curve(knModel,features_test,ifMalware_test)"
   ]
  },
  {
   "cell_type": "code",
   "execution_count": 20,
   "id": "6aced8b7",
   "metadata": {},
   "outputs": [
    {
     "data": {
      "text/plain": [
       "<sklearn.metrics._plot.roc_curve.RocCurveDisplay at 0x12416bbe0>"
      ]
     },
     "execution_count": 20,
     "metadata": {},
     "output_type": "execute_result"
    },
    {
     "data": {
      "image/png": "[encoded data removed]",
      "text/plain": [
       "<Figure size 432x288 with 1 Axes>"
      ]
     },
     "metadata": {
      "needs_background": "light"
     },
     "output_type": "display_data"
    }
   ],
   "source": [
    "plot_roc_curve(knModel,features_test,ifMalware_test)"
   ]
  },
  {
   "cell_type": "code",
   "execution_count": null,
   "id": "038c4e87",
   "metadata": {},
   "outputs": [],
   "source": []
  }
 ],
 "metadata": {
  "kernelspec": {
   "display_name": "Python 3 (ipykernel)",
   "language": "python",
   "name": "python3"
  },
  "language_info": {
   "codemirror_mode": {
    "name": "ipython",
    "version": 3
   },
   "file_extension": ".py",
   "mimetype": "text/x-python",
   "name": "python",
   "nbconvert_exporter": "python",
   "pygments_lexer": "ipython3",
   "version": "3.9.10"
  }
 },
 "nbformat": 4,
 "nbformat_minor": 5
}
